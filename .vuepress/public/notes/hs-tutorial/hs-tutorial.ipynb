{
 "cells": [
  {
   "attachments": {},
   "cell_type": "markdown",
   "metadata": {},
   "source": [
    "![logo-haskell.png](/hs-tutorial/index/logo-haskell.png)\n",
    "<h1><center>A Brief Introduction on Haskell</center></h1>\n",
    "<h5><center>Learn you a Haskell for great good!</center></h5>\n",
    "<p><center><a href=\"https://higuoxing.com\">@Higuoxing</a> | 2018.03.30</center></p>"
   ]
  },
  {
   "cell_type": "markdown",
   "metadata": {},
   "source": [
    "This tutorial is aimed at this basic concepts of pure programming in Haskell with no complex mathematical concepts... Just for fun... This basic tutorial is based on the books listed below"
   ]
  },
  {
   "cell_type": "markdown",
   "metadata": {},
   "source": [
    "### Reference\n",
    "\n",
    "Some useful books you might want to read :)\n",
    "\n",
    "[0] [Learn you a Haskell for great good](http://learnyouahaskell.com/chapters) (Online) `prefered`\n",
    "\n",
    "[1] [Progrmming in Haskell](http://www.cs.nott.ac.uk/~pszgmh/pih.html) `prefered`\n",
    "\n",
    "[3] [Write you a Haskell](http://dev.stephendiehl.com/fun/) (Oneline)\n",
    "\n",
    "[4] Real World Haskell (Library)\n",
    "\n",
    "[5] [awesome-haskell](https://github.com/krispo/awesome-haskell)"
   ]
  },
  {
   "cell_type": "markdown",
   "metadata": {},
   "source": [
    "### First Taste of Functions"
   ]
  },
  {
   "cell_type": "code",
   "execution_count": 1,
   "metadata": {
    "scrolled": true
   },
   "outputs": [
    {
     "data": {
      "text/plain": [
       "2"
      ]
     },
     "metadata": {},
     "output_type": "display_data"
    }
   ],
   "source": [
    "-- defination of function: plus one to some number x\n",
    "plusOne x = x + 1\n",
    "-- apply it to a given number\n",
    "plusOne 1          -- please complete me! (replace ? by a number)\n",
    "-- Tip: Try to press Shift+Enter to run the code segment\n",
    "plusOne' = (+1)"
   ]
  },
  {
   "cell_type": "markdown",
   "metadata": {},
   "source": [
    "### Basic Concenpts"
   ]
  },
  {
   "cell_type": "markdown",
   "metadata": {},
   "source": [
    "Haskell's function definition is very simple, for example:\n",
    "\n",
    "`f x y = x + y` means $ f(x, y) = x + y $\n",
    "\n",
    "Let's take more Haskell functions!"
   ]
  },
  {
   "cell_type": "markdown",
   "metadata": {},
   "source": [
    "### Haskell Tools\n",
    "Hugs:\n",
    "\n",
    "* usually used for teaching\n",
    "  \n",
    "GHC (Glasgow Haskell Compiler):\n",
    "\n",
    "* support parallel excution\n",
    "\n",
    "* either directly generate native code or using llvm as back-end\n",
    "\n",
    "* ghc  -> compile for generating fast native code\n",
    "    \n",
    "* ghci -> interpreter and debugger\n",
    "\n",
    "* comes with several libraries, thousands of libraries are available on Hackage\n",
    "\n",
    "Cabal (Common Architecture for Building Applications and Libraries):\n",
    "\n",
    "* a system for building and packaging Haskell libraries and programs\n",
    "\n",
    "Stack (preferred):\n",
    "\n",
    "* a cross-platform program for developing Haskell projects.\n",
    "\n",
    "* Installing GHC automatically, in an isolated location.\n",
    "\n",
    "* Installing packages needed for your project.\n",
    "\n",
    "* Building your project.\n",
    "\n",
    "* Testing your project."
   ]
  },
  {
   "cell_type": "markdown",
   "metadata": {},
   "source": [
    "*Exercise*: Write a function that return the area of a given circle\n",
    "\n",
    "$ circleArea(r) = pi * r^{2} $"
   ]
  },
  {
   "cell_type": "code",
   "execution_count": 2,
   "metadata": {
    "scrolled": true
   },
   "outputs": [
    {
     "data": {
      "text/plain": [
       "3.141592653589793"
      ]
     },
     "metadata": {},
     "output_type": "display_data"
    },
    {
     "data": {
      "text/plain": [
       "1"
      ]
     },
     "metadata": {},
     "output_type": "display_data"
    }
   ],
   "source": [
    "-- circleArea ? -- complete me!\n",
    "pi\n",
    "1^2"
   ]
  },
  {
   "cell_type": "markdown",
   "metadata": {},
   "source": [
    "### Types& Classes\n",
    "\n",
    "In this section, we will discuss some useful built-in *types* in Haskell and the usage of these types. Besides, *class* will be discussed as well.\n",
    "\n",
    "Haskell is a strongly, statically typed programming language where types can be infered.\n",
    "\n",
    "* Strongly typed:\n",
    "\n",
    "    * Cannot cast one type from another\n",
    "    \n",
    "    * Some type errors could be avoided\n",
    "    \n",
    "* Statically typed:\n",
    "\n",
    "    * types are known at compilation time by the compiler / interpreter\n",
    "    \n",
    "* types can be inferred\n",
    " \n",
    "    * types can always be inferred by compiler or interpreter, but you can specify them."
   ]
  },
  {
   "cell_type": "code",
   "execution_count": 3,
   "metadata": {
    "scrolled": true
   },
   "outputs": [
    {
     "data": {
      "text/html": [
       "<style>/* Styles used for the Hoogle display in the pager */\n",
       ".hoogle-doc {\n",
       "display: block;\n",
       "padding-bottom: 1.3em;\n",
       "padding-left: 0.4em;\n",
       "}\n",
       ".hoogle-code {\n",
       "display: block;\n",
       "font-family: monospace;\n",
       "white-space: pre;\n",
       "}\n",
       ".hoogle-text {\n",
       "display: block;\n",
       "}\n",
       ".hoogle-name {\n",
       "color: green;\n",
       "font-weight: bold;\n",
       "}\n",
       ".hoogle-head {\n",
       "font-weight: bold;\n",
       "}\n",
       ".hoogle-sub {\n",
       "display: block;\n",
       "margin-left: 0.4em;\n",
       "}\n",
       ".hoogle-package {\n",
       "font-weight: bold;\n",
       "font-style: italic;\n",
       "}\n",
       ".hoogle-module {\n",
       "font-weight: bold;\n",
       "}\n",
       ".hoogle-class {\n",
       "font-weight: bold;\n",
       "}\n",
       ".get-type {\n",
       "color: green;\n",
       "font-weight: bold;\n",
       "font-family: monospace;\n",
       "display: block;\n",
       "white-space: pre-wrap;\n",
       "}\n",
       ".show-type {\n",
       "color: green;\n",
       "font-weight: bold;\n",
       "font-family: monospace;\n",
       "margin-left: 1em;\n",
       "}\n",
       ".mono {\n",
       "font-family: monospace;\n",
       "display: block;\n",
       "}\n",
       ".err-msg {\n",
       "color: red;\n",
       "font-style: italic;\n",
       "font-family: monospace;\n",
       "white-space: pre;\n",
       "display: block;\n",
       "}\n",
       "#unshowable {\n",
       "color: red;\n",
       "font-weight: bold;\n",
       "}\n",
       ".err-msg.in.collapse {\n",
       "padding-top: 0.7em;\n",
       "}\n",
       ".highlight-code {\n",
       "white-space: pre;\n",
       "font-family: monospace;\n",
       "}\n",
       ".suggestion-warning { \n",
       "font-weight: bold;\n",
       "color: rgb(200, 130, 0);\n",
       "}\n",
       ".suggestion-error { \n",
       "font-weight: bold;\n",
       "color: red;\n",
       "}\n",
       ".suggestion-name {\n",
       "font-weight: bold;\n",
       "}\n",
       "</style><span class='get-type'>'a' :: Char</span>"
      ],
      "text/plain": [
       "'a' :: Char"
      ]
     },
     "metadata": {},
     "output_type": "display_data"
    },
    {
     "data": {
      "text/html": [
       "<style>/* Styles used for the Hoogle display in the pager */\n",
       ".hoogle-doc {\n",
       "display: block;\n",
       "padding-bottom: 1.3em;\n",
       "padding-left: 0.4em;\n",
       "}\n",
       ".hoogle-code {\n",
       "display: block;\n",
       "font-family: monospace;\n",
       "white-space: pre;\n",
       "}\n",
       ".hoogle-text {\n",
       "display: block;\n",
       "}\n",
       ".hoogle-name {\n",
       "color: green;\n",
       "font-weight: bold;\n",
       "}\n",
       ".hoogle-head {\n",
       "font-weight: bold;\n",
       "}\n",
       ".hoogle-sub {\n",
       "display: block;\n",
       "margin-left: 0.4em;\n",
       "}\n",
       ".hoogle-package {\n",
       "font-weight: bold;\n",
       "font-style: italic;\n",
       "}\n",
       ".hoogle-module {\n",
       "font-weight: bold;\n",
       "}\n",
       ".hoogle-class {\n",
       "font-weight: bold;\n",
       "}\n",
       ".get-type {\n",
       "color: green;\n",
       "font-weight: bold;\n",
       "font-family: monospace;\n",
       "display: block;\n",
       "white-space: pre-wrap;\n",
       "}\n",
       ".show-type {\n",
       "color: green;\n",
       "font-weight: bold;\n",
       "font-family: monospace;\n",
       "margin-left: 1em;\n",
       "}\n",
       ".mono {\n",
       "font-family: monospace;\n",
       "display: block;\n",
       "}\n",
       ".err-msg {\n",
       "color: red;\n",
       "font-style: italic;\n",
       "font-family: monospace;\n",
       "white-space: pre;\n",
       "display: block;\n",
       "}\n",
       "#unshowable {\n",
       "color: red;\n",
       "font-weight: bold;\n",
       "}\n",
       ".err-msg.in.collapse {\n",
       "padding-top: 0.7em;\n",
       "}\n",
       ".highlight-code {\n",
       "white-space: pre;\n",
       "font-family: monospace;\n",
       "}\n",
       ".suggestion-warning { \n",
       "font-weight: bold;\n",
       "color: rgb(200, 130, 0);\n",
       "}\n",
       ".suggestion-error { \n",
       "font-weight: bold;\n",
       "color: red;\n",
       "}\n",
       ".suggestion-name {\n",
       "font-weight: bold;\n",
       "}\n",
       "</style><span class='get-type'>\"a\" :: [Char]</span>"
      ],
      "text/plain": [
       "\"a\" :: [Char]"
      ]
     },
     "metadata": {},
     "output_type": "display_data"
    },
    {
     "data": {
      "text/html": [
       "<style>/* Styles used for the Hoogle display in the pager */\n",
       ".hoogle-doc {\n",
       "display: block;\n",
       "padding-bottom: 1.3em;\n",
       "padding-left: 0.4em;\n",
       "}\n",
       ".hoogle-code {\n",
       "display: block;\n",
       "font-family: monospace;\n",
       "white-space: pre;\n",
       "}\n",
       ".hoogle-text {\n",
       "display: block;\n",
       "}\n",
       ".hoogle-name {\n",
       "color: green;\n",
       "font-weight: bold;\n",
       "}\n",
       ".hoogle-head {\n",
       "font-weight: bold;\n",
       "}\n",
       ".hoogle-sub {\n",
       "display: block;\n",
       "margin-left: 0.4em;\n",
       "}\n",
       ".hoogle-package {\n",
       "font-weight: bold;\n",
       "font-style: italic;\n",
       "}\n",
       ".hoogle-module {\n",
       "font-weight: bold;\n",
       "}\n",
       ".hoogle-class {\n",
       "font-weight: bold;\n",
       "}\n",
       ".get-type {\n",
       "color: green;\n",
       "font-weight: bold;\n",
       "font-family: monospace;\n",
       "display: block;\n",
       "white-space: pre-wrap;\n",
       "}\n",
       ".show-type {\n",
       "color: green;\n",
       "font-weight: bold;\n",
       "font-family: monospace;\n",
       "margin-left: 1em;\n",
       "}\n",
       ".mono {\n",
       "font-family: monospace;\n",
       "display: block;\n",
       "}\n",
       ".err-msg {\n",
       "color: red;\n",
       "font-style: italic;\n",
       "font-family: monospace;\n",
       "white-space: pre;\n",
       "display: block;\n",
       "}\n",
       "#unshowable {\n",
       "color: red;\n",
       "font-weight: bold;\n",
       "}\n",
       ".err-msg.in.collapse {\n",
       "padding-top: 0.7em;\n",
       "}\n",
       ".highlight-code {\n",
       "white-space: pre;\n",
       "font-family: monospace;\n",
       "}\n",
       ".suggestion-warning { \n",
       "font-weight: bold;\n",
       "color: rgb(200, 130, 0);\n",
       "}\n",
       ".suggestion-error { \n",
       "font-weight: bold;\n",
       "color: red;\n",
       "}\n",
       ".suggestion-name {\n",
       "font-weight: bold;\n",
       "}\n",
       "</style><span class='get-type'>True :: Bool</span>"
      ],
      "text/plain": [
       "True :: Bool"
      ]
     },
     "metadata": {},
     "output_type": "display_data"
    },
    {
     "data": {
      "text/html": [
       "<style>/* Styles used for the Hoogle display in the pager */\n",
       ".hoogle-doc {\n",
       "display: block;\n",
       "padding-bottom: 1.3em;\n",
       "padding-left: 0.4em;\n",
       "}\n",
       ".hoogle-code {\n",
       "display: block;\n",
       "font-family: monospace;\n",
       "white-space: pre;\n",
       "}\n",
       ".hoogle-text {\n",
       "display: block;\n",
       "}\n",
       ".hoogle-name {\n",
       "color: green;\n",
       "font-weight: bold;\n",
       "}\n",
       ".hoogle-head {\n",
       "font-weight: bold;\n",
       "}\n",
       ".hoogle-sub {\n",
       "display: block;\n",
       "margin-left: 0.4em;\n",
       "}\n",
       ".hoogle-package {\n",
       "font-weight: bold;\n",
       "font-style: italic;\n",
       "}\n",
       ".hoogle-module {\n",
       "font-weight: bold;\n",
       "}\n",
       ".hoogle-class {\n",
       "font-weight: bold;\n",
       "}\n",
       ".get-type {\n",
       "color: green;\n",
       "font-weight: bold;\n",
       "font-family: monospace;\n",
       "display: block;\n",
       "white-space: pre-wrap;\n",
       "}\n",
       ".show-type {\n",
       "color: green;\n",
       "font-weight: bold;\n",
       "font-family: monospace;\n",
       "margin-left: 1em;\n",
       "}\n",
       ".mono {\n",
       "font-family: monospace;\n",
       "display: block;\n",
       "}\n",
       ".err-msg {\n",
       "color: red;\n",
       "font-style: italic;\n",
       "font-family: monospace;\n",
       "white-space: pre;\n",
       "display: block;\n",
       "}\n",
       "#unshowable {\n",
       "color: red;\n",
       "font-weight: bold;\n",
       "}\n",
       ".err-msg.in.collapse {\n",
       "padding-top: 0.7em;\n",
       "}\n",
       ".highlight-code {\n",
       "white-space: pre;\n",
       "font-family: monospace;\n",
       "}\n",
       ".suggestion-warning { \n",
       "font-weight: bold;\n",
       "color: rgb(200, 130, 0);\n",
       "}\n",
       ".suggestion-error { \n",
       "font-weight: bold;\n",
       "color: red;\n",
       "}\n",
       ".suggestion-name {\n",
       "font-weight: bold;\n",
       "}\n",
       "</style><span class='get-type'>False :: Bool</span>"
      ],
      "text/plain": [
       "False :: Bool"
      ]
     },
     "metadata": {},
     "output_type": "display_data"
    },
    {
     "data": {
      "text/html": [
       "<style>/* Styles used for the Hoogle display in the pager */\n",
       ".hoogle-doc {\n",
       "display: block;\n",
       "padding-bottom: 1.3em;\n",
       "padding-left: 0.4em;\n",
       "}\n",
       ".hoogle-code {\n",
       "display: block;\n",
       "font-family: monospace;\n",
       "white-space: pre;\n",
       "}\n",
       ".hoogle-text {\n",
       "display: block;\n",
       "}\n",
       ".hoogle-name {\n",
       "color: green;\n",
       "font-weight: bold;\n",
       "}\n",
       ".hoogle-head {\n",
       "font-weight: bold;\n",
       "}\n",
       ".hoogle-sub {\n",
       "display: block;\n",
       "margin-left: 0.4em;\n",
       "}\n",
       ".hoogle-package {\n",
       "font-weight: bold;\n",
       "font-style: italic;\n",
       "}\n",
       ".hoogle-module {\n",
       "font-weight: bold;\n",
       "}\n",
       ".hoogle-class {\n",
       "font-weight: bold;\n",
       "}\n",
       ".get-type {\n",
       "color: green;\n",
       "font-weight: bold;\n",
       "font-family: monospace;\n",
       "display: block;\n",
       "white-space: pre-wrap;\n",
       "}\n",
       ".show-type {\n",
       "color: green;\n",
       "font-weight: bold;\n",
       "font-family: monospace;\n",
       "margin-left: 1em;\n",
       "}\n",
       ".mono {\n",
       "font-family: monospace;\n",
       "display: block;\n",
       "}\n",
       ".err-msg {\n",
       "color: red;\n",
       "font-style: italic;\n",
       "font-family: monospace;\n",
       "white-space: pre;\n",
       "display: block;\n",
       "}\n",
       "#unshowable {\n",
       "color: red;\n",
       "font-weight: bold;\n",
       "}\n",
       ".err-msg.in.collapse {\n",
       "padding-top: 0.7em;\n",
       "}\n",
       ".highlight-code {\n",
       "white-space: pre;\n",
       "font-family: monospace;\n",
       "}\n",
       ".suggestion-warning { \n",
       "font-weight: bold;\n",
       "color: rgb(200, 130, 0);\n",
       "}\n",
       ".suggestion-error { \n",
       "font-weight: bold;\n",
       "color: red;\n",
       "}\n",
       ".suggestion-name {\n",
       "font-weight: bold;\n",
       "}\n",
       "</style><span class='get-type'>not :: Bool -> Bool</span>"
      ],
      "text/plain": [
       "not :: Bool -> Bool"
      ]
     },
     "metadata": {},
     "output_type": "display_data"
    }
   ],
   "source": [
    "-- try to run these command\n",
    ":t 'a'     -- 'a' :: Char\n",
    ":t \"a\"     -- \"a\" :: String / [Char]\n",
    ":t True    -- True :: Bool\n",
    ":t False   -- False :: Bool\n",
    ":t not     -- not :: Bool -> Bool"
   ]
  },
  {
   "cell_type": "markdown",
   "metadata": {},
   "source": [
    "`'a' :: Char` means `'a'` is a value of type `Char`\n",
    "\n",
    "`\"a\" :: [Char]` means `\"a\"` is a value of type `String` or `[Char]` list of Char\n",
    "\n",
    "`True :: Bool` means `True` is a value of type `Bool`\n",
    "\n",
    "`False :: Bool` means `False` is a value of type `Bool`\n",
    "\n",
    "`not :: Bool -> Bool` means `not` is a function of type `Bool -> Bool` (map a value of type `Bool` to a value of type `Bool`)"
   ]
  },
  {
   "cell_type": "markdown",
   "metadata": {},
   "source": [
    "Here, we introduce some basic types of Haskell\n",
    "\n",
    "`Char` signle characters\n",
    "\n",
    "`Bool` Logic values\n",
    "\n",
    "`String` [Char]\n",
    "\n",
    "`Int` $ from\\ (-2^{63})\\ to\\ (2^{63}-1) $ fixed-precision integers\n",
    "\n",
    "`Integer` arbitrary-precision integers\n",
    "\n",
    "`Float` single-precision floating-point numbers\n",
    "\n",
    "`Double` double-precision floating-point numbers\n",
    "\n",
    "`[T]` list types\n",
    "\n",
    "`(T0, T1, T2)` tuple types\n",
    "\n",
    "`(T -> T')` function types"
   ]
  },
  {
   "cell_type": "code",
   "execution_count": 4,
   "metadata": {
    "scrolled": true
   },
   "outputs": [
    {
     "data": {
      "text/html": [
       "<style>/* Styles used for the Hoogle display in the pager */\n",
       ".hoogle-doc {\n",
       "display: block;\n",
       "padding-bottom: 1.3em;\n",
       "padding-left: 0.4em;\n",
       "}\n",
       ".hoogle-code {\n",
       "display: block;\n",
       "font-family: monospace;\n",
       "white-space: pre;\n",
       "}\n",
       ".hoogle-text {\n",
       "display: block;\n",
       "}\n",
       ".hoogle-name {\n",
       "color: green;\n",
       "font-weight: bold;\n",
       "}\n",
       ".hoogle-head {\n",
       "font-weight: bold;\n",
       "}\n",
       ".hoogle-sub {\n",
       "display: block;\n",
       "margin-left: 0.4em;\n",
       "}\n",
       ".hoogle-package {\n",
       "font-weight: bold;\n",
       "font-style: italic;\n",
       "}\n",
       ".hoogle-module {\n",
       "font-weight: bold;\n",
       "}\n",
       ".hoogle-class {\n",
       "font-weight: bold;\n",
       "}\n",
       ".get-type {\n",
       "color: green;\n",
       "font-weight: bold;\n",
       "font-family: monospace;\n",
       "display: block;\n",
       "white-space: pre-wrap;\n",
       "}\n",
       ".show-type {\n",
       "color: green;\n",
       "font-weight: bold;\n",
       "font-family: monospace;\n",
       "margin-left: 1em;\n",
       "}\n",
       ".mono {\n",
       "font-family: monospace;\n",
       "display: block;\n",
       "}\n",
       ".err-msg {\n",
       "color: red;\n",
       "font-style: italic;\n",
       "font-family: monospace;\n",
       "white-space: pre;\n",
       "display: block;\n",
       "}\n",
       "#unshowable {\n",
       "color: red;\n",
       "font-weight: bold;\n",
       "}\n",
       ".err-msg.in.collapse {\n",
       "padding-top: 0.7em;\n",
       "}\n",
       ".highlight-code {\n",
       "white-space: pre;\n",
       "font-family: monospace;\n",
       "}\n",
       ".suggestion-warning { \n",
       "font-weight: bold;\n",
       "color: rgb(200, 130, 0);\n",
       "}\n",
       ".suggestion-error { \n",
       "font-weight: bold;\n",
       "color: red;\n",
       "}\n",
       ".suggestion-name {\n",
       "font-weight: bold;\n",
       "}\n",
       "</style><span class='get-type'>c :: Char</span>"
      ],
      "text/plain": [
       "c :: Char"
      ]
     },
     "metadata": {},
     "output_type": "display_data"
    },
    {
     "data": {
      "text/html": [
       "<style>/* Styles used for the Hoogle display in the pager */\n",
       ".hoogle-doc {\n",
       "display: block;\n",
       "padding-bottom: 1.3em;\n",
       "padding-left: 0.4em;\n",
       "}\n",
       ".hoogle-code {\n",
       "display: block;\n",
       "font-family: monospace;\n",
       "white-space: pre;\n",
       "}\n",
       ".hoogle-text {\n",
       "display: block;\n",
       "}\n",
       ".hoogle-name {\n",
       "color: green;\n",
       "font-weight: bold;\n",
       "}\n",
       ".hoogle-head {\n",
       "font-weight: bold;\n",
       "}\n",
       ".hoogle-sub {\n",
       "display: block;\n",
       "margin-left: 0.4em;\n",
       "}\n",
       ".hoogle-package {\n",
       "font-weight: bold;\n",
       "font-style: italic;\n",
       "}\n",
       ".hoogle-module {\n",
       "font-weight: bold;\n",
       "}\n",
       ".hoogle-class {\n",
       "font-weight: bold;\n",
       "}\n",
       ".get-type {\n",
       "color: green;\n",
       "font-weight: bold;\n",
       "font-family: monospace;\n",
       "display: block;\n",
       "white-space: pre-wrap;\n",
       "}\n",
       ".show-type {\n",
       "color: green;\n",
       "font-weight: bold;\n",
       "font-family: monospace;\n",
       "margin-left: 1em;\n",
       "}\n",
       ".mono {\n",
       "font-family: monospace;\n",
       "display: block;\n",
       "}\n",
       ".err-msg {\n",
       "color: red;\n",
       "font-style: italic;\n",
       "font-family: monospace;\n",
       "white-space: pre;\n",
       "display: block;\n",
       "}\n",
       "#unshowable {\n",
       "color: red;\n",
       "font-weight: bold;\n",
       "}\n",
       ".err-msg.in.collapse {\n",
       "padding-top: 0.7em;\n",
       "}\n",
       ".highlight-code {\n",
       "white-space: pre;\n",
       "font-family: monospace;\n",
       "}\n",
       ".suggestion-warning { \n",
       "font-weight: bold;\n",
       "color: rgb(200, 130, 0);\n",
       "}\n",
       ".suggestion-error { \n",
       "font-weight: bold;\n",
       "color: red;\n",
       "}\n",
       ".suggestion-name {\n",
       "font-weight: bold;\n",
       "}\n",
       "</style><span class='get-type'>f :: Bool</span>"
      ],
      "text/plain": [
       "f :: Bool"
      ]
     },
     "metadata": {},
     "output_type": "display_data"
    },
    {
     "data": {
      "text/html": [
       "<style>/* Styles used for the Hoogle display in the pager */\n",
       ".hoogle-doc {\n",
       "display: block;\n",
       "padding-bottom: 1.3em;\n",
       "padding-left: 0.4em;\n",
       "}\n",
       ".hoogle-code {\n",
       "display: block;\n",
       "font-family: monospace;\n",
       "white-space: pre;\n",
       "}\n",
       ".hoogle-text {\n",
       "display: block;\n",
       "}\n",
       ".hoogle-name {\n",
       "color: green;\n",
       "font-weight: bold;\n",
       "}\n",
       ".hoogle-head {\n",
       "font-weight: bold;\n",
       "}\n",
       ".hoogle-sub {\n",
       "display: block;\n",
       "margin-left: 0.4em;\n",
       "}\n",
       ".hoogle-package {\n",
       "font-weight: bold;\n",
       "font-style: italic;\n",
       "}\n",
       ".hoogle-module {\n",
       "font-weight: bold;\n",
       "}\n",
       ".hoogle-class {\n",
       "font-weight: bold;\n",
       "}\n",
       ".get-type {\n",
       "color: green;\n",
       "font-weight: bold;\n",
       "font-family: monospace;\n",
       "display: block;\n",
       "white-space: pre-wrap;\n",
       "}\n",
       ".show-type {\n",
       "color: green;\n",
       "font-weight: bold;\n",
       "font-family: monospace;\n",
       "margin-left: 1em;\n",
       "}\n",
       ".mono {\n",
       "font-family: monospace;\n",
       "display: block;\n",
       "}\n",
       ".err-msg {\n",
       "color: red;\n",
       "font-style: italic;\n",
       "font-family: monospace;\n",
       "white-space: pre;\n",
       "display: block;\n",
       "}\n",
       "#unshowable {\n",
       "color: red;\n",
       "font-weight: bold;\n",
       "}\n",
       ".err-msg.in.collapse {\n",
       "padding-top: 0.7em;\n",
       "}\n",
       ".highlight-code {\n",
       "white-space: pre;\n",
       "font-family: monospace;\n",
       "}\n",
       ".suggestion-warning { \n",
       "font-weight: bold;\n",
       "color: rgb(200, 130, 0);\n",
       "}\n",
       ".suggestion-error { \n",
       "font-weight: bold;\n",
       "color: red;\n",
       "}\n",
       ".suggestion-name {\n",
       "font-weight: bold;\n",
       "}\n",
       "</style><span class='get-type'>p :: [Char]</span>"
      ],
      "text/plain": [
       "p :: [Char]"
      ]
     },
     "metadata": {},
     "output_type": "display_data"
    },
    {
     "data": {
      "text/html": [
       "<style>/* Styles used for the Hoogle display in the pager */\n",
       ".hoogle-doc {\n",
       "display: block;\n",
       "padding-bottom: 1.3em;\n",
       "padding-left: 0.4em;\n",
       "}\n",
       ".hoogle-code {\n",
       "display: block;\n",
       "font-family: monospace;\n",
       "white-space: pre;\n",
       "}\n",
       ".hoogle-text {\n",
       "display: block;\n",
       "}\n",
       ".hoogle-name {\n",
       "color: green;\n",
       "font-weight: bold;\n",
       "}\n",
       ".hoogle-head {\n",
       "font-weight: bold;\n",
       "}\n",
       ".hoogle-sub {\n",
       "display: block;\n",
       "margin-left: 0.4em;\n",
       "}\n",
       ".hoogle-package {\n",
       "font-weight: bold;\n",
       "font-style: italic;\n",
       "}\n",
       ".hoogle-module {\n",
       "font-weight: bold;\n",
       "}\n",
       ".hoogle-class {\n",
       "font-weight: bold;\n",
       "}\n",
       ".get-type {\n",
       "color: green;\n",
       "font-weight: bold;\n",
       "font-family: monospace;\n",
       "display: block;\n",
       "white-space: pre-wrap;\n",
       "}\n",
       ".show-type {\n",
       "color: green;\n",
       "font-weight: bold;\n",
       "font-family: monospace;\n",
       "margin-left: 1em;\n",
       "}\n",
       ".mono {\n",
       "font-family: monospace;\n",
       "display: block;\n",
       "}\n",
       ".err-msg {\n",
       "color: red;\n",
       "font-style: italic;\n",
       "font-family: monospace;\n",
       "white-space: pre;\n",
       "display: block;\n",
       "}\n",
       "#unshowable {\n",
       "color: red;\n",
       "font-weight: bold;\n",
       "}\n",
       ".err-msg.in.collapse {\n",
       "padding-top: 0.7em;\n",
       "}\n",
       ".highlight-code {\n",
       "white-space: pre;\n",
       "font-family: monospace;\n",
       "}\n",
       ".suggestion-warning { \n",
       "font-weight: bold;\n",
       "color: rgb(200, 130, 0);\n",
       "}\n",
       ".suggestion-error { \n",
       "font-weight: bold;\n",
       "color: red;\n",
       "}\n",
       ".suggestion-name {\n",
       "font-weight: bold;\n",
       "}\n",
       "</style><span class='get-type'>s :: String</span>"
      ],
      "text/plain": [
       "s :: String"
      ]
     },
     "metadata": {},
     "output_type": "display_data"
    },
    {
     "data": {
      "text/html": [
       "<style>/* Styles used for the Hoogle display in the pager */\n",
       ".hoogle-doc {\n",
       "display: block;\n",
       "padding-bottom: 1.3em;\n",
       "padding-left: 0.4em;\n",
       "}\n",
       ".hoogle-code {\n",
       "display: block;\n",
       "font-family: monospace;\n",
       "white-space: pre;\n",
       "}\n",
       ".hoogle-text {\n",
       "display: block;\n",
       "}\n",
       ".hoogle-name {\n",
       "color: green;\n",
       "font-weight: bold;\n",
       "}\n",
       ".hoogle-head {\n",
       "font-weight: bold;\n",
       "}\n",
       ".hoogle-sub {\n",
       "display: block;\n",
       "margin-left: 0.4em;\n",
       "}\n",
       ".hoogle-package {\n",
       "font-weight: bold;\n",
       "font-style: italic;\n",
       "}\n",
       ".hoogle-module {\n",
       "font-weight: bold;\n",
       "}\n",
       ".hoogle-class {\n",
       "font-weight: bold;\n",
       "}\n",
       ".get-type {\n",
       "color: green;\n",
       "font-weight: bold;\n",
       "font-family: monospace;\n",
       "display: block;\n",
       "white-space: pre-wrap;\n",
       "}\n",
       ".show-type {\n",
       "color: green;\n",
       "font-weight: bold;\n",
       "font-family: monospace;\n",
       "margin-left: 1em;\n",
       "}\n",
       ".mono {\n",
       "font-family: monospace;\n",
       "display: block;\n",
       "}\n",
       ".err-msg {\n",
       "color: red;\n",
       "font-style: italic;\n",
       "font-family: monospace;\n",
       "white-space: pre;\n",
       "display: block;\n",
       "}\n",
       "#unshowable {\n",
       "color: red;\n",
       "font-weight: bold;\n",
       "}\n",
       ".err-msg.in.collapse {\n",
       "padding-top: 0.7em;\n",
       "}\n",
       ".highlight-code {\n",
       "white-space: pre;\n",
       "font-family: monospace;\n",
       "}\n",
       ".suggestion-warning { \n",
       "font-weight: bold;\n",
       "color: rgb(200, 130, 0);\n",
       "}\n",
       ".suggestion-error { \n",
       "font-weight: bold;\n",
       "color: red;\n",
       "}\n",
       ".suggestion-name {\n",
       "font-weight: bold;\n",
       "}\n",
       "</style><span class='get-type'>n :: Int</span>"
      ],
      "text/plain": [
       "n :: Int"
      ]
     },
     "metadata": {},
     "output_type": "display_data"
    },
    {
     "data": {
      "text/html": [
       "<style>/* Styles used for the Hoogle display in the pager */\n",
       ".hoogle-doc {\n",
       "display: block;\n",
       "padding-bottom: 1.3em;\n",
       "padding-left: 0.4em;\n",
       "}\n",
       ".hoogle-code {\n",
       "display: block;\n",
       "font-family: monospace;\n",
       "white-space: pre;\n",
       "}\n",
       ".hoogle-text {\n",
       "display: block;\n",
       "}\n",
       ".hoogle-name {\n",
       "color: green;\n",
       "font-weight: bold;\n",
       "}\n",
       ".hoogle-head {\n",
       "font-weight: bold;\n",
       "}\n",
       ".hoogle-sub {\n",
       "display: block;\n",
       "margin-left: 0.4em;\n",
       "}\n",
       ".hoogle-package {\n",
       "font-weight: bold;\n",
       "font-style: italic;\n",
       "}\n",
       ".hoogle-module {\n",
       "font-weight: bold;\n",
       "}\n",
       ".hoogle-class {\n",
       "font-weight: bold;\n",
       "}\n",
       ".get-type {\n",
       "color: green;\n",
       "font-weight: bold;\n",
       "font-family: monospace;\n",
       "display: block;\n",
       "white-space: pre-wrap;\n",
       "}\n",
       ".show-type {\n",
       "color: green;\n",
       "font-weight: bold;\n",
       "font-family: monospace;\n",
       "margin-left: 1em;\n",
       "}\n",
       ".mono {\n",
       "font-family: monospace;\n",
       "display: block;\n",
       "}\n",
       ".err-msg {\n",
       "color: red;\n",
       "font-style: italic;\n",
       "font-family: monospace;\n",
       "white-space: pre;\n",
       "display: block;\n",
       "}\n",
       "#unshowable {\n",
       "color: red;\n",
       "font-weight: bold;\n",
       "}\n",
       ".err-msg.in.collapse {\n",
       "padding-top: 0.7em;\n",
       "}\n",
       ".highlight-code {\n",
       "white-space: pre;\n",
       "font-family: monospace;\n",
       "}\n",
       ".suggestion-warning { \n",
       "font-weight: bold;\n",
       "color: rgb(200, 130, 0);\n",
       "}\n",
       ".suggestion-error { \n",
       "font-weight: bold;\n",
       "color: red;\n",
       "}\n",
       ".suggestion-name {\n",
       "font-weight: bold;\n",
       "}\n",
       "</style><span class='get-type'>x :: Integer</span>"
      ],
      "text/plain": [
       "x :: Integer"
      ]
     },
     "metadata": {},
     "output_type": "display_data"
    },
    {
     "data": {
      "text/html": [
       "<style>/* Styles used for the Hoogle display in the pager */\n",
       ".hoogle-doc {\n",
       "display: block;\n",
       "padding-bottom: 1.3em;\n",
       "padding-left: 0.4em;\n",
       "}\n",
       ".hoogle-code {\n",
       "display: block;\n",
       "font-family: monospace;\n",
       "white-space: pre;\n",
       "}\n",
       ".hoogle-text {\n",
       "display: block;\n",
       "}\n",
       ".hoogle-name {\n",
       "color: green;\n",
       "font-weight: bold;\n",
       "}\n",
       ".hoogle-head {\n",
       "font-weight: bold;\n",
       "}\n",
       ".hoogle-sub {\n",
       "display: block;\n",
       "margin-left: 0.4em;\n",
       "}\n",
       ".hoogle-package {\n",
       "font-weight: bold;\n",
       "font-style: italic;\n",
       "}\n",
       ".hoogle-module {\n",
       "font-weight: bold;\n",
       "}\n",
       ".hoogle-class {\n",
       "font-weight: bold;\n",
       "}\n",
       ".get-type {\n",
       "color: green;\n",
       "font-weight: bold;\n",
       "font-family: monospace;\n",
       "display: block;\n",
       "white-space: pre-wrap;\n",
       "}\n",
       ".show-type {\n",
       "color: green;\n",
       "font-weight: bold;\n",
       "font-family: monospace;\n",
       "margin-left: 1em;\n",
       "}\n",
       ".mono {\n",
       "font-family: monospace;\n",
       "display: block;\n",
       "}\n",
       ".err-msg {\n",
       "color: red;\n",
       "font-style: italic;\n",
       "font-family: monospace;\n",
       "white-space: pre;\n",
       "display: block;\n",
       "}\n",
       "#unshowable {\n",
       "color: red;\n",
       "font-weight: bold;\n",
       "}\n",
       ".err-msg.in.collapse {\n",
       "padding-top: 0.7em;\n",
       "}\n",
       ".highlight-code {\n",
       "white-space: pre;\n",
       "font-family: monospace;\n",
       "}\n",
       ".suggestion-warning { \n",
       "font-weight: bold;\n",
       "color: rgb(200, 130, 0);\n",
       "}\n",
       ".suggestion-error { \n",
       "font-weight: bold;\n",
       "color: red;\n",
       "}\n",
       ".suggestion-name {\n",
       "font-weight: bold;\n",
       "}\n",
       "</style><span class='get-type'>y :: Float</span>"
      ],
      "text/plain": [
       "y :: Float"
      ]
     },
     "metadata": {},
     "output_type": "display_data"
    },
    {
     "data": {
      "text/html": [
       "<style>/* Styles used for the Hoogle display in the pager */\n",
       ".hoogle-doc {\n",
       "display: block;\n",
       "padding-bottom: 1.3em;\n",
       "padding-left: 0.4em;\n",
       "}\n",
       ".hoogle-code {\n",
       "display: block;\n",
       "font-family: monospace;\n",
       "white-space: pre;\n",
       "}\n",
       ".hoogle-text {\n",
       "display: block;\n",
       "}\n",
       ".hoogle-name {\n",
       "color: green;\n",
       "font-weight: bold;\n",
       "}\n",
       ".hoogle-head {\n",
       "font-weight: bold;\n",
       "}\n",
       ".hoogle-sub {\n",
       "display: block;\n",
       "margin-left: 0.4em;\n",
       "}\n",
       ".hoogle-package {\n",
       "font-weight: bold;\n",
       "font-style: italic;\n",
       "}\n",
       ".hoogle-module {\n",
       "font-weight: bold;\n",
       "}\n",
       ".hoogle-class {\n",
       "font-weight: bold;\n",
       "}\n",
       ".get-type {\n",
       "color: green;\n",
       "font-weight: bold;\n",
       "font-family: monospace;\n",
       "display: block;\n",
       "white-space: pre-wrap;\n",
       "}\n",
       ".show-type {\n",
       "color: green;\n",
       "font-weight: bold;\n",
       "font-family: monospace;\n",
       "margin-left: 1em;\n",
       "}\n",
       ".mono {\n",
       "font-family: monospace;\n",
       "display: block;\n",
       "}\n",
       ".err-msg {\n",
       "color: red;\n",
       "font-style: italic;\n",
       "font-family: monospace;\n",
       "white-space: pre;\n",
       "display: block;\n",
       "}\n",
       "#unshowable {\n",
       "color: red;\n",
       "font-weight: bold;\n",
       "}\n",
       ".err-msg.in.collapse {\n",
       "padding-top: 0.7em;\n",
       "}\n",
       ".highlight-code {\n",
       "white-space: pre;\n",
       "font-family: monospace;\n",
       "}\n",
       ".suggestion-warning { \n",
       "font-weight: bold;\n",
       "color: rgb(200, 130, 0);\n",
       "}\n",
       ".suggestion-error { \n",
       "font-weight: bold;\n",
       "color: red;\n",
       "}\n",
       ".suggestion-name {\n",
       "font-weight: bold;\n",
       "}\n",
       "</style><span class='get-type'>z :: Double</span>"
      ],
      "text/plain": [
       "z :: Double"
      ]
     },
     "metadata": {},
     "output_type": "display_data"
    }
   ],
   "source": [
    "let c = 'a'\n",
    "let f = False\n",
    "let p = \"hello, world\"\n",
    "let s = \"hello, world\" :: String\n",
    "let n = 0 :: Int\n",
    "let x = 0 :: Integer\n",
    "let y = 1.0 :: Float\n",
    "let z = 1.0 :: Double\n",
    "\n",
    ":t c\n",
    ":t f\n",
    ":t p\n",
    ":t s\n",
    ":t n\n",
    ":t x\n",
    ":t y\n",
    ":t z"
   ]
  },
  {
   "cell_type": "code",
   "execution_count": 5,
   "metadata": {
    "scrolled": true
   },
   "outputs": [
    {
     "data": {
      "text/plain": [
       "[1,2]"
      ]
     },
     "metadata": {},
     "output_type": "display_data"
    },
    {
     "data": {
      "text/plain": [
       "[3,4,5]"
      ]
     },
     "metadata": {},
     "output_type": "display_data"
    },
    {
     "data": {
      "text/plain": [
       "[0.0,0.1,0.2,0.30000000000000004,0.4000000000000001,0.5000000000000001,0.6000000000000001,0.7000000000000001,0.8,0.9]"
      ]
     },
     "metadata": {},
     "output_type": "display_data"
    },
    {
     "data": {
      "text/plain": [
       "'d'"
      ]
     },
     "metadata": {},
     "output_type": "display_data"
    },
    {
     "data": {
      "text/plain": [
       "1"
      ]
     },
     "metadata": {},
     "output_type": "display_data"
    },
    {
     "data": {
      "text/plain": [
       "[2,3,4,5]"
      ]
     },
     "metadata": {},
     "output_type": "display_data"
    }
   ],
   "source": [
    "take 2 [1, 2, 3, 4, 5]  -- take first 2 elements of a list\n",
    "drop 2 [1..5]           -- drop 2 elements from list\n",
    "init [0.0, 0.1..1.0]    -- init xs = take (length xs - 1) xs\n",
    "last ['a'..'d']         -- last xs = drop (length xs - 1) xs\n",
    "head [1..]              -- head xs = take 1 xs, [1..] means a infinity list!\n",
    "tail [1..5]             -- tail xs = drop 1 xs"
   ]
  },
  {
   "cell_type": "code",
   "execution_count": 6,
   "metadata": {
    "scrolled": true
   },
   "outputs": [],
   "source": [
    "-- add a constraint for function\n",
    "plusOne :: Int -> Int\n",
    "plusOne x = x + 1"
   ]
  },
  {
   "cell_type": "code",
   "execution_count": 7,
   "metadata": {
    "scrolled": true
   },
   "outputs": [
    {
     "data": {
      "text/html": [
       "<style>/* Styles used for the Hoogle display in the pager */\n",
       ".hoogle-doc {\n",
       "display: block;\n",
       "padding-bottom: 1.3em;\n",
       "padding-left: 0.4em;\n",
       "}\n",
       ".hoogle-code {\n",
       "display: block;\n",
       "font-family: monospace;\n",
       "white-space: pre;\n",
       "}\n",
       ".hoogle-text {\n",
       "display: block;\n",
       "}\n",
       ".hoogle-name {\n",
       "color: green;\n",
       "font-weight: bold;\n",
       "}\n",
       ".hoogle-head {\n",
       "font-weight: bold;\n",
       "}\n",
       ".hoogle-sub {\n",
       "display: block;\n",
       "margin-left: 0.4em;\n",
       "}\n",
       ".hoogle-package {\n",
       "font-weight: bold;\n",
       "font-style: italic;\n",
       "}\n",
       ".hoogle-module {\n",
       "font-weight: bold;\n",
       "}\n",
       ".hoogle-class {\n",
       "font-weight: bold;\n",
       "}\n",
       ".get-type {\n",
       "color: green;\n",
       "font-weight: bold;\n",
       "font-family: monospace;\n",
       "display: block;\n",
       "white-space: pre-wrap;\n",
       "}\n",
       ".show-type {\n",
       "color: green;\n",
       "font-weight: bold;\n",
       "font-family: monospace;\n",
       "margin-left: 1em;\n",
       "}\n",
       ".mono {\n",
       "font-family: monospace;\n",
       "display: block;\n",
       "}\n",
       ".err-msg {\n",
       "color: red;\n",
       "font-style: italic;\n",
       "font-family: monospace;\n",
       "white-space: pre;\n",
       "display: block;\n",
       "}\n",
       "#unshowable {\n",
       "color: red;\n",
       "font-weight: bold;\n",
       "}\n",
       ".err-msg.in.collapse {\n",
       "padding-top: 0.7em;\n",
       "}\n",
       ".highlight-code {\n",
       "white-space: pre;\n",
       "font-family: monospace;\n",
       "}\n",
       ".suggestion-warning { \n",
       "font-weight: bold;\n",
       "color: rgb(200, 130, 0);\n",
       "}\n",
       ".suggestion-error { \n",
       "font-weight: bold;\n",
       "color: red;\n",
       "}\n",
       ".suggestion-name {\n",
       "font-weight: bold;\n",
       "}\n",
       "</style><span class='get-type'>add 1 :: Int -> Int</span>"
      ],
      "text/plain": [
       "add 1 :: Int -> Int"
      ]
     },
     "metadata": {},
     "output_type": "display_data"
    }
   ],
   "source": [
    "add :: Int -> Int -> Int\n",
    "add x y = x + y\n",
    "\n",
    ":t add 1"
   ]
  },
  {
   "cell_type": "markdown",
   "metadata": {},
   "source": [
    "Something interesting happens!\n",
    "\n",
    "What's the exact meaning of `Int -> Int -> Int` ?\n",
    "\n",
    "1) a function that takes 2 `Int` type parameter and return a `Int` type number\n",
    "\n",
    "2) a function that takes one `Int` type parameter and return a `function` which takes one `Int` type paramter and return a `Int` type parameter\n",
    "\n",
    "Useful ? Yes!"
   ]
  },
  {
   "cell_type": "code",
   "execution_count": 8,
   "metadata": {
    "scrolled": true
   },
   "outputs": [
    {
     "data": {
      "text/plain": [
       "[3,4,5,6,7]"
      ]
     },
     "metadata": {},
     "output_type": "display_data"
    }
   ],
   "source": [
    "add :: Int -> Int -> Int\n",
    "add x y = x + y\n",
    "\n",
    "-- function *add* is partially applied\n",
    "-- curring function is named after Haskell Curry\n",
    "-- https://en.wikipedia.org/wiki/Haskell_Curry\n",
    "map (add 2) [1..5]"
   ]
  },
  {
   "cell_type": "markdown",
   "metadata": {},
   "source": [
    "Curring function and lambda calculus are used to simplified the conception of functions.\n",
    "\n",
    "Let's take a function:\n",
    "\n",
    "$ f(x, y) \\rightarrow x^2 + y^2 $\n",
    "\n",
    "Is the name of a function important ? no...\n",
    "\n",
    "$ (x, y) \\rightarrow x^2 + y^2 $\n",
    "\n",
    "Is it essential to distinguish a multi-arguments function and a single-argument function? no...\n",
    "\n",
    "$ x \\rightarrow (y \\rightarrow x^2 + y^2) $\n",
    "\n",
    "Later, we will discuss this topic in `Evaluation Strategies`"
   ]
  },
  {
   "cell_type": "code",
   "execution_count": 9,
   "metadata": {
    "scrolled": true
   },
   "outputs": [
    {
     "data": {
      "text/html": [
       "<style>/* Styles used for the Hoogle display in the pager */\n",
       ".hoogle-doc {\n",
       "display: block;\n",
       "padding-bottom: 1.3em;\n",
       "padding-left: 0.4em;\n",
       "}\n",
       ".hoogle-code {\n",
       "display: block;\n",
       "font-family: monospace;\n",
       "white-space: pre;\n",
       "}\n",
       ".hoogle-text {\n",
       "display: block;\n",
       "}\n",
       ".hoogle-name {\n",
       "color: green;\n",
       "font-weight: bold;\n",
       "}\n",
       ".hoogle-head {\n",
       "font-weight: bold;\n",
       "}\n",
       ".hoogle-sub {\n",
       "display: block;\n",
       "margin-left: 0.4em;\n",
       "}\n",
       ".hoogle-package {\n",
       "font-weight: bold;\n",
       "font-style: italic;\n",
       "}\n",
       ".hoogle-module {\n",
       "font-weight: bold;\n",
       "}\n",
       ".hoogle-class {\n",
       "font-weight: bold;\n",
       "}\n",
       ".get-type {\n",
       "color: green;\n",
       "font-weight: bold;\n",
       "font-family: monospace;\n",
       "display: block;\n",
       "white-space: pre-wrap;\n",
       "}\n",
       ".show-type {\n",
       "color: green;\n",
       "font-weight: bold;\n",
       "font-family: monospace;\n",
       "margin-left: 1em;\n",
       "}\n",
       ".mono {\n",
       "font-family: monospace;\n",
       "display: block;\n",
       "}\n",
       ".err-msg {\n",
       "color: red;\n",
       "font-style: italic;\n",
       "font-family: monospace;\n",
       "white-space: pre;\n",
       "display: block;\n",
       "}\n",
       "#unshowable {\n",
       "color: red;\n",
       "font-weight: bold;\n",
       "}\n",
       ".err-msg.in.collapse {\n",
       "padding-top: 0.7em;\n",
       "}\n",
       ".highlight-code {\n",
       "white-space: pre;\n",
       "font-family: monospace;\n",
       "}\n",
       ".suggestion-warning { \n",
       "font-weight: bold;\n",
       "color: rgb(200, 130, 0);\n",
       "}\n",
       ".suggestion-error { \n",
       "font-weight: bold;\n",
       "color: red;\n",
       "}\n",
       ".suggestion-name {\n",
       "font-weight: bold;\n",
       "}\n",
       "</style><div class=\"suggestion-name\" style=\"clear:both;\">Collapse lambdas</div><div class=\"suggestion-row\" style=\"float: left;\"><div class=\"suggestion-warning\">Found:</div><div class=\"highlight-code\" id=\"haskell\">\\ x -> (\\ y -> x ^ 2 + y ^ 2)</div></div><div class=\"suggestion-row\" style=\"float: left;\"><div class=\"suggestion-warning\">Why Not:</div><div class=\"highlight-code\" id=\"haskell\">\\ x y -> x ^ 2 + y ^ 2</div></div>"
      ],
      "text/plain": [
       "Line 1: Collapse lambdas\n",
       "Found:\n",
       "\\ x -> (\\ y -> x ^ 2 + y ^ 2)\n",
       "Why not:\n",
       "\\ x y -> x ^ 2 + y ^ 2"
      ]
     },
     "metadata": {},
     "output_type": "display_data"
    },
    {
     "data": {
      "text/plain": [
       "5"
      ]
     },
     "metadata": {},
     "output_type": "display_data"
    },
    {
     "data": {
      "text/plain": [
       "5"
      ]
     },
     "metadata": {},
     "output_type": "display_data"
    }
   ],
   "source": [
    "f x y = x^2 + y^2\n",
    "\n",
    "(\\x y -> x^2 + y^2) 1 2\n",
    "\n",
    "(\\x -> (\\y -> x^2 + y^2)) 1 2"
   ]
  },
  {
   "cell_type": "markdown",
   "metadata": {},
   "source": [
    "In general, take a `n arguments function` for example,\n",
    "\n",
    "$ f(x_1, x_2, x_3, ..., x_n) = f^{n-1}(x_1)(x_2)...(x_n) $\n",
    "\n",
    "This is *exactly* what Haskell do when analyzing your code!"
   ]
  },
  {
   "cell_type": "code",
   "execution_count": 10,
   "metadata": {
    "scrolled": true
   },
   "outputs": [],
   "source": [
    "-- Polymorphic types\n",
    "empty' :: [a] -> Bool   -- I don't know the actual type of a, but I want to use it!\n",
    "empty' []  = True\n",
    "empty' _   = False"
   ]
  },
  {
   "cell_type": "markdown",
   "metadata": {},
   "source": [
    "Classes are a collection of types that support overloaded functions called *methods*. Haskell provides some basic built-in classes and we will discuss them below..."
   ]
  },
  {
   "cell_type": "code",
   "execution_count": 11,
   "metadata": {
    "scrolled": true
   },
   "outputs": [
    {
     "data": {
      "text/html": [
       "<style>/* Styles used for the Hoogle display in the pager */\n",
       ".hoogle-doc {\n",
       "display: block;\n",
       "padding-bottom: 1.3em;\n",
       "padding-left: 0.4em;\n",
       "}\n",
       ".hoogle-code {\n",
       "display: block;\n",
       "font-family: monospace;\n",
       "white-space: pre;\n",
       "}\n",
       ".hoogle-text {\n",
       "display: block;\n",
       "}\n",
       ".hoogle-name {\n",
       "color: green;\n",
       "font-weight: bold;\n",
       "}\n",
       ".hoogle-head {\n",
       "font-weight: bold;\n",
       "}\n",
       ".hoogle-sub {\n",
       "display: block;\n",
       "margin-left: 0.4em;\n",
       "}\n",
       ".hoogle-package {\n",
       "font-weight: bold;\n",
       "font-style: italic;\n",
       "}\n",
       ".hoogle-module {\n",
       "font-weight: bold;\n",
       "}\n",
       ".hoogle-class {\n",
       "font-weight: bold;\n",
       "}\n",
       ".get-type {\n",
       "color: green;\n",
       "font-weight: bold;\n",
       "font-family: monospace;\n",
       "display: block;\n",
       "white-space: pre-wrap;\n",
       "}\n",
       ".show-type {\n",
       "color: green;\n",
       "font-weight: bold;\n",
       "font-family: monospace;\n",
       "margin-left: 1em;\n",
       "}\n",
       ".mono {\n",
       "font-family: monospace;\n",
       "display: block;\n",
       "}\n",
       ".err-msg {\n",
       "color: red;\n",
       "font-style: italic;\n",
       "font-family: monospace;\n",
       "white-space: pre;\n",
       "display: block;\n",
       "}\n",
       "#unshowable {\n",
       "color: red;\n",
       "font-weight: bold;\n",
       "}\n",
       ".err-msg.in.collapse {\n",
       "padding-top: 0.7em;\n",
       "}\n",
       ".highlight-code {\n",
       "white-space: pre;\n",
       "font-family: monospace;\n",
       "}\n",
       ".suggestion-warning { \n",
       "font-weight: bold;\n",
       "color: rgb(200, 130, 0);\n",
       "}\n",
       ".suggestion-error { \n",
       "font-weight: bold;\n",
       "color: red;\n",
       "}\n",
       ".suggestion-name {\n",
       "font-weight: bold;\n",
       "}\n",
       "</style><span class='err-msg'>&lt;interactive&gt;:2:14: error:<br/>    • No instance for (Eq a) arising from a use of ‘==’<br/>      Possible fix:<br/>        add (Eq a) to the context of<br/>          the type signature for:<br/>            equal' :: forall a. a -&gt; a -&gt; Bool<br/>    • In the expression: x == y<br/>      In an equation for ‘equal'’: equal' x y = x == y</span>"
      ],
      "text/plain": [
       "<interactive>:2:14: error:\n",
       "    • No instance for (Eq a) arising from a use of ‘==’\n",
       "      Possible fix:\n",
       "        add (Eq a) to the context of\n",
       "          the type signature for:\n",
       "            equal' :: forall a. a -> a -> Bool\n",
       "    • In the expression: x == y\n",
       "      In an equation for ‘equal'’: equal' x y = x == y"
      ]
     },
     "metadata": {},
     "output_type": "display_data"
    }
   ],
   "source": [
    "-- for example, if you write something like equal'\n",
    "-- and this will produce a error\n",
    "-- because in the function, we use the (==) operator\n",
    "-- without put a constraint on type `a`\n",
    "-- (==) is defined in `Eq` class\n",
    "equal' :: a -> a -> Bool\n",
    "equal' x y = x == y"
   ]
  },
  {
   "cell_type": "code",
   "execution_count": 12,
   "metadata": {
    "scrolled": true
   },
   "outputs": [],
   "source": [
    "equal' :: Eq a => a -> a -> Bool\n",
    "equal' x y = x == y"
   ]
  },
  {
   "cell_type": "code",
   "execution_count": 13,
   "metadata": {
    "scrolled": true
   },
   "outputs": [
    {
     "data": {
      "text/plain": [
       "False"
      ]
     },
     "metadata": {},
     "output_type": "display_data"
    }
   ],
   "source": [
    "-- class Eq a where\n",
    "--   (==) :: a -> a -> Bool\n",
    "--   (/=) :: a -> a -> Bool\n",
    "\n",
    "-- instance Eq Int where\n",
    "--   ...\n",
    "\n",
    "-- instance Eq Float where\n",
    "--   ...\n",
    "\n",
    "-- yet another Eq\n",
    "class YAEq a where\n",
    "    (=-=)  :: a -> a -> Bool\n",
    "    (/=-=) :: a -> a -> Bool\n",
    "    \n",
    "data Natural = Nat Int\n",
    "    \n",
    "instance YAEq Natural where\n",
    "    Nat m =-= Nat n = m == n\n",
    "\n",
    "Nat 1 =-= Nat 2"
   ]
  },
  {
   "cell_type": "markdown",
   "metadata": {},
   "source": [
    "Some basic types are listed below\n",
    "\n",
    "> *Eq* - equality types\n",
    "    \n",
    "Methods: \n",
    "```Haskell\n",
    "(==) :: a -> a -> Bool\n",
    "(/=) :: a -> a -> Bool\n",
    "```\n",
    "\n",
    "    \n",
    "all basic types are instances of `Eq`: `Bool`, `Char`, `String`, `Int`, `Integer`, `Float`, `Double`\n",
    "\n",
    "> *Ord* - ordered types\n",
    "    \n",
    "Methods: \n",
    "```Haskell\n",
    "(<) :: a -> a -> Bool\n",
    "(>) :: a -> a -> Bool\n",
    "(<=) :: a -> a -> Bool\n",
    "(>=) :: a -> a -> Bool\n",
    "```\n",
    "    \n",
    "all basic types are instances of `Eq`: `Bool`, `Char`, `String`, `Int`, `Integer`, `Float`, `Double`\n",
    "\n",
    "> *Show* - show types\n",
    "    \n",
    "Methods: show\n",
    "    \n",
    "all basic types are instances of `Eq`: `Bool`, `Char`, `String`, `Int`, `Integer`, `Float`, `Double`\n",
    "\n",
    "> *Read* -- readable types\n",
    "\n",
    "Method: \n",
    "```Haskell\n",
    "read :: String -> a\n",
    "```\n",
    "\n",
    "all basic types are instances of `Eq`: `Bool`, `Char`, `String`, `Int`, `Integer`, `Float`, `Double`\n",
    "\n",
    "\n",
    "> *Num* -- numeric types\n",
    "\n",
    "Method: \n",
    "```Haskell\n",
    "(+) :: a -> a -> a\n",
    "(-) :: a -> a -> a\n",
    "(*) :: a -> a -> a\n",
    "negate :: a -> a\n",
    "abs :: a -> a\n",
    "signum :: a -> a   -- sign of a number, abs x * signum x == x\n",
    "```\n",
    "\n",
    "basic types that are instances of `Num`: `Int`, `Integer`, `Float`, `Double`\n",
    "\n",
    "> *Integral* -- integral types\n",
    "\n",
    "Method: \n",
    "```haskell\n",
    "div :: a -> a -> a\n",
    "mod :: a -> a -> a\n",
    "```\n",
    "\n",
    "basic types that are instances of `Num`: `Int`, `Integer`\n",
    "\n",
    "> *Fractional* -- fractional types\n",
    "\n",
    "Method:\n",
    "```haskell\n",
    "(/) :: a -> a -> a\n",
    "recip :: a -> a\n",
    "```\n",
    "\n",
    "basic types that are instances of `Fractional`: `Float`, `Double`"
   ]
  },
  {
   "cell_type": "code",
   "execution_count": 14,
   "metadata": {
    "scrolled": true
   },
   "outputs": [],
   "source": [
    "-- playground\n",
    "\n"
   ]
  },
  {
   "cell_type": "code",
   "execution_count": 15,
   "metadata": {
    "scrolled": true
   },
   "outputs": [
    {
     "data": {
      "text/html": [
       "<style>/* Styles used for the Hoogle display in the pager */\n",
       ".hoogle-doc {\n",
       "display: block;\n",
       "padding-bottom: 1.3em;\n",
       "padding-left: 0.4em;\n",
       "}\n",
       ".hoogle-code {\n",
       "display: block;\n",
       "font-family: monospace;\n",
       "white-space: pre;\n",
       "}\n",
       ".hoogle-text {\n",
       "display: block;\n",
       "}\n",
       ".hoogle-name {\n",
       "color: green;\n",
       "font-weight: bold;\n",
       "}\n",
       ".hoogle-head {\n",
       "font-weight: bold;\n",
       "}\n",
       ".hoogle-sub {\n",
       "display: block;\n",
       "margin-left: 0.4em;\n",
       "}\n",
       ".hoogle-package {\n",
       "font-weight: bold;\n",
       "font-style: italic;\n",
       "}\n",
       ".hoogle-module {\n",
       "font-weight: bold;\n",
       "}\n",
       ".hoogle-class {\n",
       "font-weight: bold;\n",
       "}\n",
       ".get-type {\n",
       "color: green;\n",
       "font-weight: bold;\n",
       "font-family: monospace;\n",
       "display: block;\n",
       "white-space: pre-wrap;\n",
       "}\n",
       ".show-type {\n",
       "color: green;\n",
       "font-weight: bold;\n",
       "font-family: monospace;\n",
       "margin-left: 1em;\n",
       "}\n",
       ".mono {\n",
       "font-family: monospace;\n",
       "display: block;\n",
       "}\n",
       ".err-msg {\n",
       "color: red;\n",
       "font-style: italic;\n",
       "font-family: monospace;\n",
       "white-space: pre;\n",
       "display: block;\n",
       "}\n",
       "#unshowable {\n",
       "color: red;\n",
       "font-weight: bold;\n",
       "}\n",
       ".err-msg.in.collapse {\n",
       "padding-top: 0.7em;\n",
       "}\n",
       ".highlight-code {\n",
       "white-space: pre;\n",
       "font-family: monospace;\n",
       "}\n",
       ".suggestion-warning { \n",
       "font-weight: bold;\n",
       "color: rgb(200, 130, 0);\n",
       "}\n",
       ".suggestion-error { \n",
       "font-weight: bold;\n",
       "color: red;\n",
       "}\n",
       ".suggestion-name {\n",
       "font-weight: bold;\n",
       "}\n",
       "</style><span class='get-type'>Node :: forall a. Tree a -> a -> Tree a -> Tree a</span>"
      ],
      "text/plain": [
       "Node :: forall a. Tree a -> a -> Tree a -> Tree a"
      ]
     },
     "metadata": {},
     "output_type": "display_data"
    },
    {
     "data": {
      "text/plain": [
       "Node (Node Nil 2 Nil) 1 Nil"
      ]
     },
     "metadata": {},
     "output_type": "display_data"
    },
    {
     "data": {
      "text/plain": [
       "#2#1#"
      ]
     },
     "metadata": {},
     "output_type": "display_data"
    }
   ],
   "source": [
    "-- type declarations\n",
    "type Pos = (Int, Int)\n",
    "type String_ = [Char]\n",
    "\n",
    "-- class declarations\n",
    "data Tree a = Node (Tree a) a (Tree a)   -- non-empty binary tree node\n",
    "            | Nil                        -- empty node\n",
    "  deriving (Show)\n",
    "\n",
    "--          (1)\n",
    "--         /   \\\n",
    "--        2    (Nil)\n",
    "--       / \\\n",
    "--    (Nil)(Nil)\n",
    ":t Node\n",
    "Node (Node Nil 2 Nil) 1 Nil\n",
    "\n",
    "-- instance <preconditions> => <class> <type> where\n",
    "--  <method> = <definition>\n",
    "-- yet another binary tree\n",
    "data Tree' a = Node' (Tree' a) a (Tree' a)\n",
    "             | Nil'\n",
    "\n",
    "instance Show a => Show (Tree' a) where\n",
    "  show (Node' l v r) = show l ++ show v ++ show r\n",
    "  show Nil'          = \"#\"\n",
    "\n",
    "Node' (Node' Nil' 2 Nil') 1 Nil'\n",
    "\n",
    "-- newtype\n",
    "-- usually, newtype is used to declare new class that has only one parameter\n",
    "newtype Natural  = N  Int\n",
    "data    Natural' = N' Int"
   ]
  },
  {
   "cell_type": "markdown",
   "metadata": {},
   "source": [
    "*Where* Constructions\n",
    "\n",
    "the `where` clause allow us to introduce local variables and functions \n"
   ]
  },
  {
   "cell_type": "code",
   "execution_count": 16,
   "metadata": {
    "scrolled": true
   },
   "outputs": [],
   "source": [
    "add :: Int -> Int -> Int\n",
    "add x y = sumOfXY\n",
    "  where sumOfXY = x + y"
   ]
  },
  {
   "cell_type": "markdown",
   "metadata": {},
   "source": [
    "\n",
    "*Let* Bindings\n",
    "\n",
    "syntax: \n",
    "```haskell\n",
    "let bindings in expression\n",
    "```"
   ]
  },
  {
   "cell_type": "code",
   "execution_count": 17,
   "metadata": {
    "scrolled": true
   },
   "outputs": [],
   "source": [
    "add :: Int -> Int -> Int\n",
    "add x y = let sumOfXY = x + y in sumOfXY"
   ]
  },
  {
   "cell_type": "markdown",
   "metadata": {},
   "source": [
    "*Case* Expressions\n",
    "\n",
    "syntax:\n",
    "```haskell\n",
    "case expression of \n",
    "  pattern_0 -> result_0\n",
    "  pattern_1 -> result_0\n",
    "  ...\n",
    "  pattern_n -> result_n\n",
    "```"
   ]
  },
  {
   "cell_type": "code",
   "execution_count": 18,
   "metadata": {
    "scrolled": true
   },
   "outputs": [],
   "source": [
    "judge' :: Bool -> String\n",
    "judge' b = \n",
    "  case b of\n",
    "    True  -> \"logic true\"\n",
    "    False -> \"logic false\""
   ]
  },
  {
   "cell_type": "markdown",
   "metadata": {},
   "source": [
    "*if* expression\n",
    "\n",
    "syntax:\n",
    "```haskell\n",
    "if expression then\n",
    "  expression_0\n",
    "else \n",
    "  expression_0\n",
    "```"
   ]
  },
  {
   "cell_type": "code",
   "execution_count": 19,
   "metadata": {
    "scrolled": true
   },
   "outputs": [],
   "source": [
    "judge' :: Bool -> String\n",
    "judge' b =\n",
    "  if b == True then\n",
    "    \"logic true\"\n",
    "  else \n",
    "    \"logic false\""
   ]
  },
  {
   "cell_type": "markdown",
   "metadata": {},
   "source": [
    "*guard*\n",
    "\n",
    "syntax:\n",
    "```haskell\n",
    "variable\n",
    "  | expression_0 = result_0\n",
    "  | expression_1 = result_1\n",
    "    ...\n",
    "  | otherwise    = result_n\n",
    "```"
   ]
  },
  {
   "cell_type": "code",
   "execution_count": 20,
   "metadata": {
    "scrolled": true
   },
   "outputs": [],
   "source": [
    "judge' :: Bool -> String\n",
    "judge' b\n",
    "  | b == True = \"logic true\"\n",
    "  | otherwise = \"logic false\""
   ]
  },
  {
   "cell_type": "markdown",
   "metadata": {},
   "source": [
    "Using pattern matching will simplify your program a lot!"
   ]
  },
  {
   "cell_type": "code",
   "execution_count": 21,
   "metadata": {
    "scrolled": true
   },
   "outputs": [],
   "source": [
    "-- logic (&&)\n",
    "-- (&-&) :: Bool -> Bool -> Bool\n",
    "-- (&-&) True  True  = True\n",
    "-- (&-&) True  False = False\n",
    "-- (&-&) False True  = False\n",
    "-- ... hard coding\n",
    "\n",
    "(&-&) :: Bool -> Bool -> Bool\n",
    "(&-&) True True = True\n",
    "(&-&) _    _    = False"
   ]
  },
  {
   "cell_type": "code",
   "execution_count": 22,
   "metadata": {
    "scrolled": true
   },
   "outputs": [],
   "source": [
    "-- tuple patterns\n",
    "fst' :: (a, b) -> a\n",
    "fst' (x, _) = x\n",
    "\n",
    "-- list patterns\n",
    "length' :: [a] -> Int\n",
    "length' []      = 0\n",
    "length' (x: xs) = 1 + length' xs\n",
    "\n",
    "head' :: [a] -> a\n",
    "head' []     = error \"ERROR: I don't accept empty list!\"\n",
    "head' (x: _) = x\n",
    "\n",
    "tail' :: [a] -> [a]\n",
    "tail' []      = error \"ERROR: I don't accept empty list!\"\n",
    "tail' (_: xs) = xs\n",
    "\n",
    "-- class patterns\n",
    "data Tree a = Node (Tree a) a (Tree a)\n",
    "            | Nil\n",
    "  deriving Show\n",
    "\n",
    "-- getValue (Node Nil 1 Nil)\n",
    "getValue :: Tree a -> a\n",
    "getValue (Node _ v _) = v\n",
    "getValue Nil          = error \"empty node\""
   ]
  },
  {
   "cell_type": "markdown",
   "metadata": {},
   "source": [
    "### List Comprehension"
   ]
  },
  {
   "cell_type": "code",
   "execution_count": 23,
   "metadata": {
    "scrolled": true
   },
   "outputs": [
    {
     "data": {
      "text/plain": [
       "[1,4,9,16,25]"
      ]
     },
     "metadata": {},
     "output_type": "display_data"
    },
    {
     "data": {
      "text/plain": [
       "[(1,2),(1,3),(2,2),(2,3),(3,2),(3,3),(4,2),(4,3),(5,2),(5,3)]"
      ]
     },
     "metadata": {},
     "output_type": "display_data"
    },
    {
     "data": {
      "text/plain": [
       "5"
      ]
     },
     "metadata": {},
     "output_type": "display_data"
    }
   ],
   "source": [
    "-- Some examples of list comprehension\n",
    "-- It's very similar to the concept of *set* from mathematics\n",
    "[x^2 | x <- [1..5]]\n",
    "[(x, y) | x <- [1..5], y <- [2, 3]]\n",
    "\n",
    "length'' :: [a] -> Int\n",
    "length'' xs = sum [1 | _ <- xs]\n",
    "\n",
    "length'' [1..5]"
   ]
  },
  {
   "cell_type": "markdown",
   "metadata": {},
   "source": [
    "The symbol `|` is read as `such that`, `<-` is read as `is drawn from`, and the expression `[x^2 | x <- [1..5]]` is called a generator"
   ]
  },
  {
   "cell_type": "code",
   "execution_count": 24,
   "metadata": {
    "scrolled": true
   },
   "outputs": [
    {
     "data": {
      "text/plain": [
       "[3,4,5]"
      ]
     },
     "metadata": {},
     "output_type": "display_data"
    },
    {
     "data": {
      "text/plain": [
       "[(3,3),(4,3),(5,3)]"
      ]
     },
     "metadata": {},
     "output_type": "display_data"
    }
   ],
   "source": [
    "-- *guard* in list comprehension\n",
    "-- *guard* is very similar to filter\n",
    "[x | x <- [1..5], x >= 3]\n",
    "\n",
    "[(x, y) | x <- [1..5], y <- [3, 6], x >= 3, y <= 4]"
   ]
  },
  {
   "cell_type": "code",
   "execution_count": 25,
   "metadata": {
    "scrolled": true
   },
   "outputs": [],
   "source": [
    "-- quick sort in haskell\n",
    "quicksort :: Ord a => [a] -> [a]\n",
    "quicksort []     = []\n",
    "quicksort (x:xs) = quicksort smaller ++ [x] ++ quicksort larger\n",
    "  where\n",
    "    smaller = [s | s <- xs, s <  x]\n",
    "    larger  = [l | l <- xs, l >= x]\n",
    "\n",
    "quicksort' :: Ord a => [a] -> [a]\n",
    "quicksort' [] = []\n",
    "quicksort' (x:xs) = let smaller = [s | s <- xs, s <  x]\n",
    "                        larger  = [l | l <- xs, l >= x]\n",
    "                    in quicksort smaller ++ [x] ++ quicksort larger"
   ]
  },
  {
   "cell_type": "markdown",
   "metadata": {},
   "source": [
    "### Evaluation Strategies\n",
    "\n",
    "In this section, we will discuss `evaluation strategies` of Haskell, and this will help you write high performance code!\n",
    "\n",
    "Ref: 1) [Church Rosser Theorems](https://www.cs.cornell.edu/~kozen/Papers/ChurchRosser.pdf) 2) [Lambda Calculus](https://en.wikipedia.org/wiki/Lambda_calculus)\n",
    "\n",
    "#### Evaluation Models\n",
    "\n",
    "Here, take 3 dominant evaluation models for consideration.\n",
    "\n",
    "\n",
    "* Call-by-value (strict)\n",
    "> arguments are evaluated before a function is called\n",
    "\n",
    "1) Evaluate $x$ to $v$\n",
    "\n",
    "2) Evaluate $f$ to $\\lambda y.e$\n",
    "\n",
    "3) Evaluate $[\\ y\\ /\\ v\\ ]e$\n",
    "\n",
    "Example:\n",
    "\n",
    "$ (\\lambda\\ x.\\ \\lambda\\ y.\\ y\\ x)\\ (2\\ +\\ 2)\\ (\\lambda\\ x.\\ x\\ +\\ 1) $\n",
    "\n",
    "$ \\rightarrow\\ (\\lambda\\ x. \\lambda\\ y.\\ y\\ x)\\ (4)\\ (\\lambda\\ x.\\ x\\ +\\ 1)$\n",
    "\n",
    "$ \\rightarrow\\ (\\lambda\\ y.\\ y\\ 4)\\ (\\lambda\\ x.\\ x\\ +\\ 1) $\n",
    "\n",
    "$ \\rightarrow\\ (\\lambda\\ x.\\ x\\ +\\ 1)\\ 4 $\n",
    "\n",
    "$ \\rightarrow\\ 5 $\n",
    "\n",
    "* Call-by-name\n",
    "> arguments are passed unevaluated, the subroutine receives the unevaluated argument expression and must evaluate it.\n",
    "\n",
    "1) Evaluate $f$ to $\\lambda y.e$\n",
    "\n",
    "2) Evaluate $[\\ y\\ /\\ v\\ ]e$\n",
    "\n",
    "Example:\n",
    "\n",
    "$ (\\lambda\\ x.\\ \\lambda\\ y.\\ y\\ x)\\ (2\\ +\\ 2)\\ (\\lambda\\ x.\\ x\\ +\\ 1) $\n",
    "\n",
    "$ \\rightarrow\\ (\\lambda\\ y.\\ y\\ (2\\ +\\ 2))\\ (\\lambda\\ x.\\ x\\ +\\ 1)$\n",
    "\n",
    "$ \\rightarrow\\ (2\\ +\\ 2)\\ +\\ 1 $\n",
    "\n",
    "$ \\rightarrow\\ 5 $\n",
    "\n",
    "* Call-by-need\n",
    "> arguments are not evaluated when a function is called, but when the arguments are needed, these arguments are evaluated and stored for next time\n",
    "\n",
    "Ref: [How Lazy Evaluation Works in Haskell](https://hackhands.com/lazy-evaluation-works-haskell/)\n",
    "\n",
    "1) Allocate a `thunk` $v$ for $x$. Tip: The term `thunk` originated as a jocular derivative of \"think\"\n",
    "\n",
    "2) Evaluate $f$ to $\\lambda y.e$\n",
    "\n",
    "3) Evaluate $[\\ y\\ /\\ v\\ ]e$\n",
    "\n",
    "Haskell uses `Call-by-need` by default. That's exactly what we call `Lazy Evaluation`.\n",
    "\n",
    "And you could use `$!` to force it to use `Call-by-value` evaluation...\n",
    "\n",
    "Tip: `Lazy` and `non-strict` are two slightly different conception ..."
   ]
  },
  {
   "cell_type": "code",
   "execution_count": 26,
   "metadata": {},
   "outputs": [
    {
     "data": {
      "text/plain": [
       "[1,2,3,4,5]"
      ]
     },
     "metadata": {},
     "output_type": "display_data"
    }
   ],
   "source": [
    "take' :: Int -> [a] -> [a]\n",
    "take' _ []     = []\n",
    "take' 0 _      = []\n",
    "take' n (x:xs) = x: take' (n-1) xs\n",
    "\n",
    "take' 5 [1..]\n",
    "\n",
    "--     take' 5 [1..]\n",
    "-- ->  1: take' (5-1) [2..]\n",
    "-- ->  1: 2 take' (4-1) [3..]\n",
    "-- ->  1: 2: 3 take' (3-1) [4..]\n",
    "-- ->  1: 2: 3: 4 take' (2-1) [5..]"
   ]
  },
  {
   "cell_type": "markdown",
   "metadata": {},
   "source": [
    "### Recursion\n",
    "\n",
    "In functional programming, recursion replace the well-known *for* and *while* loop that imperative languages have. "
   ]
  },
  {
   "cell_type": "code",
   "execution_count": 27,
   "metadata": {},
   "outputs": [],
   "source": [
    "factorial :: Int -> Int\n",
    "factorial m = factorial' m 1\n",
    "  where\n",
    "    factorial' 0 y = y\n",
    "    factorial' m n = factorial' (m-1) (m*n)"
   ]
  },
  {
   "cell_type": "markdown",
   "metadata": {},
   "source": [
    "There is one thing need to notice is that Haskell takes `Lazy Evaluation` by default. Hence, when you calculate the factorial of 5, it goes like:\n",
    "\n",
    "```haskell\n",
    "factorial 5\n",
    "factorial' 5 1\n",
    "factorial' 4 (5*1)\n",
    "factorial' 3 (4*5*1)\n",
    "factorial' 2 (3*4*5*1)\n",
    "factorial' 1 (2*3*4*5*1)\n",
    "factorial' 0 (1*2*3*4*5*1)\n",
    "120\n",
    "```\n",
    "\n",
    "So, to improve our code performance, add `$!` to force Haskell compiler to use `CBV` evaluation."
   ]
  },
  {
   "cell_type": "code",
   "execution_count": 28,
   "metadata": {},
   "outputs": [],
   "source": [
    "factorial :: Int -> Int\n",
    "factorial m = factorial' m 1\n",
    "  where\n",
    "    factorial' 0 y = y\n",
    "    factorial' m n = factorial' (m-1) $! (m*n)"
   ]
  },
  {
   "cell_type": "markdown",
   "metadata": {},
   "source": [
    "So, when GHCI evaluate `factorial 5`, it goes:\n",
    "\n",
    "```haskell\n",
    "factorial 5\n",
    "factorial' 5 1\n",
    "factorial' 4 (5*1)\n",
    "factorial' 3 (4*5)\n",
    "factorial' 2 (3*20)\n",
    "factorial' 1 (2*60)\n",
    "factorial' 0 (1*120)\n",
    "120\n",
    "```"
   ]
  },
  {
   "cell_type": "markdown",
   "metadata": {},
   "source": [
    "### Functor, Applicative, Monad\n",
    "\n",
    "The `map` function, actually, is not specific to the type of lists. It could applied to wide range of parameterised types\n",
    "\n",
    "```haskell\n",
    "class Functor f where\n",
    "  fmap :: (a -> b) -> f a -> f b\n",
    "\n",
    "instance Functor [] where\n",
    "  fmap = map\n",
    "\n",
    "instance Functor Maybe where\n",
    "  fmap _ Nothing  = Nothing\n",
    "  fmap g (Just x) = Just (g x)\n",
    "```"
   ]
  },
  {
   "cell_type": "code",
   "execution_count": 29,
   "metadata": {},
   "outputs": [
    {
     "data": {
      "text/plain": [
       "[2,3,4,5,6]"
      ]
     },
     "metadata": {},
     "output_type": "display_data"
    },
    {
     "data": {
      "text/plain": [
       "Just 3"
      ]
     },
     "metadata": {},
     "output_type": "display_data"
    }
   ],
   "source": [
    "fmap (+1) [1..5]\n",
    "fmap (+1) (Just 2)"
   ]
  },
  {
   "cell_type": "code",
   "execution_count": 30,
   "metadata": {},
   "outputs": [
    {
     "data": {
      "text/plain": [
       "Node (Node Nil 3 Nil) 2 Nil"
      ]
     },
     "metadata": {},
     "output_type": "display_data"
    }
   ],
   "source": [
    "data Tree a = Node (Tree a) a (Tree a)   -- non-empty binary tree node\n",
    "            | Nil                        -- empty node\n",
    "  deriving (Show)\n",
    "\n",
    "instance Functor Tree where\n",
    "  fmap g Nil          = Nil\n",
    "  fmap g (Node l v r) = Node (fmap g l) (g v) (fmap g r)\n",
    "\n",
    "let myTree = Node (Node Nil 2 Nil) 1 Nil\n",
    "fmap (+1) myTree"
   ]
  },
  {
   "cell_type": "markdown",
   "metadata": {},
   "source": [
    "Let think about something like this using `functor`\n",
    "\n",
    "```haskell\n",
    "fmap0 :: a -> f a\n",
    "fmap1 :: (a -> b) -> f a -> f b\n",
    "fmap2 :: (a -> b -> c) -> f a -> f b -> f c\n",
    "...\n",
    "```"
   ]
  },
  {
   "cell_type": "code",
   "execution_count": 31,
   "metadata": {},
   "outputs": [
    {
     "data": {
      "text/plain": [
       "Just 2"
      ]
     },
     "metadata": {},
     "output_type": "display_data"
    }
   ],
   "source": [
    "class Functor2 f where\n",
    "  fmap2 :: (a -> b -> c) -> f a -> f b -> f c\n",
    "\n",
    "instance Functor2 Maybe where\n",
    "  fmap2 _ Nothing _         = Nothing\n",
    "  fmap2 _ _ Nothing         = Nothing\n",
    "  fmap2 f (Just x) (Just y) = Just (f x y)\n",
    "  \n",
    "fmap2 (+) (Just 1) (Just 1)"
   ]
  },
  {
   "cell_type": "markdown",
   "metadata": {},
   "source": [
    "To allow wrapped functions applied on wrapped values like: `pure g <*> x1 <*> x2 <*> x3 ... <*> xn` \n",
    "\n",
    "`Applicative Functor` is a built-in class in Haskell...\n",
    "\n",
    "```haskell\n",
    "class Applicative f where\n",
    "  pure :: a -> f a\n",
    "  -- <*> => ->\n",
    "  <*>  :: f (a -> b) -> f a -> f b\n",
    "\n",
    "instance Applicative [] where\n",
    "  pure x    = [x]\n",
    "  gs <*> xs = [g x | g <- gs, x <- xs]\n",
    "\n",
    "instance Applicative Maybe where\n",
    "  pure x = Just x\n",
    "  Nothing <*> _   = Nothing\n",
    "  (Just g) <*> ms = fmap g ms\n",
    "```"
   ]
  },
  {
   "cell_type": "code",
   "execution_count": 32,
   "metadata": {},
   "outputs": [
    {
     "data": {
      "text/html": [
       "<style>/* Styles used for the Hoogle display in the pager */\n",
       ".hoogle-doc {\n",
       "display: block;\n",
       "padding-bottom: 1.3em;\n",
       "padding-left: 0.4em;\n",
       "}\n",
       ".hoogle-code {\n",
       "display: block;\n",
       "font-family: monospace;\n",
       "white-space: pre;\n",
       "}\n",
       ".hoogle-text {\n",
       "display: block;\n",
       "}\n",
       ".hoogle-name {\n",
       "color: green;\n",
       "font-weight: bold;\n",
       "}\n",
       ".hoogle-head {\n",
       "font-weight: bold;\n",
       "}\n",
       ".hoogle-sub {\n",
       "display: block;\n",
       "margin-left: 0.4em;\n",
       "}\n",
       ".hoogle-package {\n",
       "font-weight: bold;\n",
       "font-style: italic;\n",
       "}\n",
       ".hoogle-module {\n",
       "font-weight: bold;\n",
       "}\n",
       ".hoogle-class {\n",
       "font-weight: bold;\n",
       "}\n",
       ".get-type {\n",
       "color: green;\n",
       "font-weight: bold;\n",
       "font-family: monospace;\n",
       "display: block;\n",
       "white-space: pre-wrap;\n",
       "}\n",
       ".show-type {\n",
       "color: green;\n",
       "font-weight: bold;\n",
       "font-family: monospace;\n",
       "margin-left: 1em;\n",
       "}\n",
       ".mono {\n",
       "font-family: monospace;\n",
       "display: block;\n",
       "}\n",
       ".err-msg {\n",
       "color: red;\n",
       "font-style: italic;\n",
       "font-family: monospace;\n",
       "white-space: pre;\n",
       "display: block;\n",
       "}\n",
       "#unshowable {\n",
       "color: red;\n",
       "font-weight: bold;\n",
       "}\n",
       ".err-msg.in.collapse {\n",
       "padding-top: 0.7em;\n",
       "}\n",
       ".highlight-code {\n",
       "white-space: pre;\n",
       "font-family: monospace;\n",
       "}\n",
       ".suggestion-warning { \n",
       "font-weight: bold;\n",
       "color: rgb(200, 130, 0);\n",
       "}\n",
       ".suggestion-error { \n",
       "font-weight: bold;\n",
       "color: red;\n",
       "}\n",
       ".suggestion-name {\n",
       "font-weight: bold;\n",
       "}\n",
       "</style><div class=\"suggestion-name\" style=\"clear:both;\">Redundant bracket</div><div class=\"suggestion-row\" style=\"float: left;\"><div class=\"suggestion-warning\">Found:</div><div class=\"highlight-code\" id=\"haskell\">pure (+) <*> (Just 1)</div></div><div class=\"suggestion-row\" style=\"float: left;\"><div class=\"suggestion-warning\">Why Not:</div><div class=\"highlight-code\" id=\"haskell\">pure (+) <*> Just 1</div></div><div class=\"suggestion-name\" style=\"clear:both;\">Redundant bracket</div><div class=\"suggestion-row\" style=\"float: left;\"><div class=\"suggestion-warning\">Found:</div><div class=\"highlight-code\" id=\"haskell\">pure (+) <*> (Just 1) <*> (Just 1)</div></div><div class=\"suggestion-row\" style=\"float: left;\"><div class=\"suggestion-warning\">Why Not:</div><div class=\"highlight-code\" id=\"haskell\">pure (+) <*> (Just 1) <*> Just 1</div></div>"
      ],
      "text/plain": [
       "Line 1: Redundant bracket\n",
       "Found:\n",
       "pure (+) <*> (Just 1)\n",
       "Why not:\n",
       "pure (+) <*> Just 1Line 1: Redundant bracket\n",
       "Found:\n",
       "pure (+) <*> (Just 1) <*> (Just 1)\n",
       "Why not:\n",
       "pure (+) <*> (Just 1) <*> Just 1"
      ]
     },
     "metadata": {},
     "output_type": "display_data"
    },
    {
     "data": {
      "text/plain": [
       "Just 2"
      ]
     },
     "metadata": {},
     "output_type": "display_data"
    },
    {
     "data": {
      "text/plain": [
       "[2,3,4,5,6]"
      ]
     },
     "metadata": {},
     "output_type": "display_data"
    }
   ],
   "source": [
    "pure (+) <*> (Just 1) <*> (Just 1)\n",
    "\n",
    "pure (+1) <*> [1..5]"
   ]
  },
  {
   "cell_type": "markdown",
   "metadata": {},
   "source": [
    "```haskell\n",
    "class Applicative m => Monad m where\n",
    "  return :: a -> m a\n",
    "  -- bind\n",
    "  (>>=) :: m a -> (a -> m b) -> m b\n",
    "  return = pure\n",
    "\n",
    "instance Monad Maybe where\n",
    "  -- (>>=) :: Maybe a -> (a -> Maybe b) -> Maybe b\n",
    "  Nothing >>= _ = Nothing\n",
    "  (Just x) >>= f = f x\n",
    "```"
   ]
  },
  {
   "cell_type": "markdown",
   "metadata": {},
   "source": [
    "Don't worry if you cannot understand this slide immediately, having overall comprehension is enough!\n",
    "\n",
    "With `Monad`, we could write something like:\n",
    "```haskell\n",
    "m1 >>= \\x1 ->\n",
    "m2 >>= \\x2 ->\n",
    "...\n",
    "mn >>= \\xn ->\n",
    "f x1 x2 ... xn\n",
    "\n",
    "-- or\n",
    "\n",
    "do\n",
    "  x1 <- m1\n",
    "  x2 <- m2\n",
    "  ...\n",
    "  xn <- mn\n",
    "  f x1 x2 x3 ... xn\n",
    "```\n",
    "\n",
    "With `Monad`, we could handle impure functions easily..."
   ]
  },
  {
   "cell_type": "markdown",
   "metadata": {},
   "source": [
    "### Pure and Impure\n",
    "\n",
    "-- Wikipedia\n",
    "\n",
    "`Pure function` The function always evaluates the same result value given the same argument value(s). The function result value cannot depend on any hidden information or state that may change while program execution proceeds or between different executions of the program, nor can it depend on any external input from I/O devices. Evaluation of the result does not cause any semantically observable side effect or output, such as mutation of mutable objects or output to I/O devices.\n",
    "\n",
    "| Pure                                       | Impure                                          |\n",
    "| ------------------------------------------ | ----------------------------------------------- |\n",
    "| produce same value when arguments are same | produce different value when arguments are same |\n",
    "| non-side-effect                            | side-effect                                     |\n",
    "| never change the global state or program   | xxx                                             |"
   ]
  }
 ],
 "metadata": {
  "kernelspec": {
   "display_name": "Haskell",
   "language": "haskell",
   "name": "haskell"
  },
  "language_info": {
   "codemirror_mode": "ihaskell",
   "file_extension": ".hs",
   "name": "haskell",
   "version": "8.2.2"
  }
 },
 "nbformat": 4,
 "nbformat_minor": 2
}
